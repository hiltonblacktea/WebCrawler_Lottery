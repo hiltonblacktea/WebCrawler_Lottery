{
 "cells": [
  {
   "cell_type": "code",
   "execution_count": 3,
   "metadata": {},
   "outputs": [],
   "source": [
    "import MySQLdb\n",
    "import json\n",
    "import gc\n",
    "import os\n",
    "import time\n",
    "from selenium import webdriver\n",
    "from bs4 import BeautifulSoup\n",
    "from selenium.webdriver.common.keys import Keys\n",
    "from selenium.webdriver.support.ui import Select"
   ]
  },
  {
   "cell_type": "code",
   "execution_count": 4,
   "metadata": {},
   "outputs": [],
   "source": [
    "# 從config取得DB資料\n",
    "FilePath = os.getcwd()\n",
    "with open(FilePath+'\\\\config.json') as f:\n",
    "    config = json.load(f)\n",
    "data = config[\"passward\"]"
   ]
  },
  {
   "cell_type": "code",
   "execution_count": 5,
   "metadata": {},
   "outputs": [],
   "source": [
    "#連接DB\n",
    "db = MySQLdb.connect(host = data['host'] , user = data['user'] , passwd = data['passwd'] , db = data['db'] , charset = 'utf8')\n",
    "#查詢前先建立游標以遊歷資料\n",
    "cur = db.cursor()             \n",
    "check = db.cursor()\n",
    "# checklist 判斷有無儲存過此店家\n",
    "checklist = []\n",
    "check.execute(\"select address from lottery\")\n",
    "for row in check.fetchall():\n",
    "    checklist.append(row[0])\n",
    "# SQL取得資料用cur.fetchall來得到data(型態為tuple)\n"
   ]
  },
  {
   "cell_type": "code",
   "execution_count": 6,
   "metadata": {},
   "outputs": [],
   "source": [
    "# 呼叫webdriver \n",
    "chrome_path = \"C:/Users/3c/AppData/Roaming/Microsoft/Windows/Start Menu/Programs/Anaconda3 (64-bit)/chromedriver.exe\" #chromedriver.exe執行檔所存在的路徑\n",
    "web = webdriver.Chrome(chrome_path)\n",
    "web.set_window_position(300,0) #瀏覽器位置\n",
    "web.set_window_size(1000,1000) #瀏覽器大小\n",
    "\n",
    "# 開啟瀏覽器連線至指定網頁url\n",
    "url = 'http://www.taiwanlottery.com.tw/Lotto/se/salelocation.aspx'\n",
    "web.get(url)\n"
   ]
  },
  {
   "cell_type": "code",
   "execution_count": 7,
   "metadata": {},
   "outputs": [],
   "source": [
    "\n",
    "#取得下拉選單all_data\n",
    "#選取 縣市 的選項\n",
    "count = 0\n",
    "s1 = Select(web.find_element_by_name(\"DropDownList1\"))\n",
    "for num in range(len(s1.options)-1): #迴圈來取得所有data\n",
    "    s2 = Select(web.find_element_by_name(\"DropDownList1\"))# 因為js原因 選取後會呼叫其他東西導致舊變數無法使用 故需要再次取得一次all_data\n",
    "    num += 1\n",
    "    s2.select_by_index(num) # 會執行選取相對應index的option\n",
    "    # 選取 鄉鎮市區 的選項\n",
    "    s3 = Select(web.find_element_by_name(\"DropDownList2\"))\n",
    "    for n in range(len(s3.options)-1):\n",
    "        s4 = Select(web.find_element_by_name(\"DropDownList2\"))\n",
    "        s4.select_by_index(n)\n",
    "        n += 1\n",
    "        #下拉選單選取完畢 點選查詢\n",
    "        web.find_element_by_id('Button1').click() \n",
    "        soup = BeautifulSoup(web.page_source, \"html.parser\") \n",
    "        for Dealer in soup.select(\".tdA_1\"): #選取class \n",
    "            address , store = Dealer.select(\"td\")[2].text ,Dealer.select(\"td\")[3].text#選取 tag\\\n",
    "            County , Township = Dealer.select(\"td\")[0].text ,Dealer.select(\"td\")[1].text#選取 tag\\\n",
    "            count += 1\n",
    "            \n",
    "            if address in checklist:\n",
    "                continue\n",
    "            sql = ('INSERT INTO lottery (County, Township, address, store) VALUES (%s,%s,%s,%s)')\n",
    "            data = (County,Township,address,store)\n",
    "            cur.execute(sql,data)\n",
    "            db.commit()\n",
    "        for Dealer2 in soup.select(\".tdA_2\"): #選取class \n",
    "            address2 , store2 = Dealer2.select(\"td\")[2].text ,Dealer2.select(\"td\")[3].text#選取 tag\\\n",
    "            County2 , Township2 = Dealer2.select(\"td\")[0].text ,Dealer2.select(\"td\")[1].text#選取 tag\\\n",
    "            count += 1\n",
    "            \n",
    "            if address2 in checklist:\n",
    "                continue\n",
    "            sql2 = ('INSERT INTO lottery (County, Township, address, store) VALUES (%s,%s,%s,%s)')\n",
    "            data2 = (County2,Township2,address2,store2)\n",
    "            cur.execute(sql2,data2)\n",
    "            db.commit()"
   ]
  },
  {
   "cell_type": "code",
   "execution_count": 8,
   "metadata": {
    "scrolled": true
   },
   "outputs": [
    {
     "name": "stdout",
     "output_type": "stream",
     "text": [
      "1 台北市中正區中華路二段107巷3號 25.0327958 121.5030768\n",
      "2 台北市中正區中華路二段303巷4號 25.0292689 121.5028855\n",
      "3 台北市中正區中華路二段313巷14號 25.0282626 121.5041588\n",
      "4 台北市中正區中華路二段425號 25.0254291 121.5066994\n",
      "5 台北市中正區汀州路一段168號 25.0286132 121.5065147\n",
      "6 台北市中正區汀州路一段252巷1號 25.0270644 121.5084317\n",
      "7 台北市中正區汀州路二段149號 25.0246534 121.5187201\n",
      "8 台北市中正區汀州路二段228號 25.0219968 121.5219638\n",
      "9 台北市中正區汀州路三段285號 25.0122341 121.5334398\n",
      "10 台北市中正區和平西路一段57號 25.0269924 121.5174784\n",
      "11 台北市中正區延平南路105號 25.042045 121.5075043\n",
      "12 台北市中正區忠孝西路一段50-1號（站前地下街Z2區） 23.9587128 120.9761594\n",
      "Message: chrome not reachable\n",
      "  (Session info: chrome=81.0.4044.138)\n",
      "\n"
     ]
    }
   ],
   "source": [
    "# 從DB取address資料 自動連到 GoogleMap\n",
    "AddressXYCount = 0\n",
    "GoogleMap = \"https://www.google.com.tw/maps/place/\"\n",
    "cur = db.cursor()\n",
    "cur.execute(\"select address from lottery\")\n",
    "AddressList = cur.fetchall()\n",
    "db.commit()\n",
    "try :\n",
    "    for Address in AddressList :\n",
    "        NewAddress = Address[0]\n",
    "        web.get(GoogleMap+NewAddress)\n",
    "        time.sleep(5)\n",
    "        CurrentUrl = web.current_url\n",
    "        XY = CurrentUrl.split(\"@\")[-1]\n",
    "        X = XY.split(\",\")[0]\n",
    "        Y = XY.split(\",\")[1]\n",
    "        AddressXYCount = AddressXYCount + 1\n",
    "\n",
    "        print(AddressXYCount,NewAddress, X, Y)\n",
    "        #print(messenge)\n",
    "except Exception as e :\n",
    "    print(e)"
   ]
  },
  {
   "cell_type": "code",
   "execution_count": 9,
   "metadata": {},
   "outputs": [],
   "source": []
  },
  {
   "cell_type": "code",
   "execution_count": 10,
   "metadata": {},
   "outputs": [],
   "source": []
  },
  {
   "cell_type": "code",
   "execution_count": null,
   "metadata": {},
   "outputs": [],
   "source": []
  },
  {
   "cell_type": "code",
   "execution_count": null,
   "metadata": {},
   "outputs": [],
   "source": []
  }
 ],
 "metadata": {
  "kernelspec": {
   "display_name": "Python 3",
   "language": "python",
   "name": "python3"
  },
  "language_info": {
   "codemirror_mode": {
    "name": "ipython",
    "version": 3
   },
   "file_extension": ".py",
   "mimetype": "text/x-python",
   "name": "python",
   "nbconvert_exporter": "python",
   "pygments_lexer": "ipython3",
   "version": "3.6.8"
  }
 },
 "nbformat": 4,
 "nbformat_minor": 2
}
